{
  "nbformat": 4,
  "nbformat_minor": 0,
  "metadata": {
    "colab": {
      "provenance": [],
      "include_colab_link": true
    },
    "kernelspec": {
      "name": "python3",
      "display_name": "Python 3"
    },
    "language_info": {
      "name": "python"
    }
  },
  "cells": [
    {
      "cell_type": "markdown",
      "metadata": {
        "id": "view-in-github",
        "colab_type": "text"
      },
      "source": [
        "<a href=\"https://colab.research.google.com/github/Vivek-C-Shah/sih_IF/blob/og/evaluation_script_for_summary_with_rouge_score.ipynb\" target=\"_parent\"><img src=\"https://colab.research.google.com/assets/colab-badge.svg\" alt=\"Open In Colab\"/></a>"
      ]
    },
    {
      "cell_type": "code",
      "source": [
        "!pip install rouge_score"
      ],
      "metadata": {
        "colab": {
          "base_uri": "https://localhost:8080/"
        },
        "id": "8WCvXhyiqA6Z",
        "outputId": "bc978383-2112-4d9e-fc78-877dcfc9729f"
      },
      "execution_count": null,
      "outputs": [
        {
          "output_type": "stream",
          "name": "stdout",
          "text": [
            "Collecting rouge_score\n",
            "  Downloading rouge_score-0.1.2.tar.gz (17 kB)\n",
            "  Preparing metadata (setup.py) ... \u001b[?25l\u001b[?25hdone\n",
            "Requirement already satisfied: absl-py in /usr/local/lib/python3.10/dist-packages (from rouge_score) (1.4.0)\n",
            "Requirement already satisfied: nltk in /usr/local/lib/python3.10/dist-packages (from rouge_score) (3.8.1)\n",
            "Requirement already satisfied: numpy in /usr/local/lib/python3.10/dist-packages (from rouge_score) (1.23.5)\n",
            "Requirement already satisfied: six>=1.14.0 in /usr/local/lib/python3.10/dist-packages (from rouge_score) (1.16.0)\n",
            "Requirement already satisfied: click in /usr/local/lib/python3.10/dist-packages (from nltk->rouge_score) (8.1.7)\n",
            "Requirement already satisfied: joblib in /usr/local/lib/python3.10/dist-packages (from nltk->rouge_score) (1.3.2)\n",
            "Requirement already satisfied: regex>=2021.8.3 in /usr/local/lib/python3.10/dist-packages (from nltk->rouge_score) (2023.6.3)\n",
            "Requirement already satisfied: tqdm in /usr/local/lib/python3.10/dist-packages (from nltk->rouge_score) (4.66.1)\n",
            "Building wheels for collected packages: rouge_score\n",
            "  Building wheel for rouge_score (setup.py) ... \u001b[?25l\u001b[?25hdone\n",
            "  Created wheel for rouge_score: filename=rouge_score-0.1.2-py3-none-any.whl size=24933 sha256=688cbc00450bdf5f4e3b54c562dec6c03b10b60a0a4e10af91d2d54add441c9f\n",
            "  Stored in directory: /root/.cache/pip/wheels/5f/dd/89/461065a73be61a532ff8599a28e9beef17985c9e9c31e541b4\n",
            "Successfully built rouge_score\n",
            "Installing collected packages: rouge_score\n",
            "Successfully installed rouge_score-0.1.2\n"
          ]
        }
      ]
    },
    {
      "cell_type": "code",
      "source": [
        "!pip install rouge"
      ],
      "metadata": {
        "colab": {
          "base_uri": "https://localhost:8080/"
        },
        "id": "ZK2m0a2CzB3j",
        "outputId": "66749b15-3986-426c-da7a-c0077aa6a650"
      },
      "execution_count": null,
      "outputs": [
        {
          "output_type": "stream",
          "name": "stdout",
          "text": [
            "Collecting rouge\n",
            "  Downloading rouge-1.0.1-py3-none-any.whl (13 kB)\n",
            "Requirement already satisfied: six in /usr/local/lib/python3.10/dist-packages (from rouge) (1.16.0)\n",
            "Installing collected packages: rouge\n",
            "Successfully installed rouge-1.0.1\n"
          ]
        }
      ]
    },
    {
      "cell_type": "markdown",
      "source": [
        "create output txt and refrence txt file with below commands. Generated_summary.txt => generated summary; Reference_summary.txt=> reference summary or original summary"
      ],
      "metadata": {
        "id": "Kuyjg-dE-NNO"
      }
    },
    {
      "cell_type": "code",
      "source": [
        "f =  open('/content/Generated_summary.txt', 'wb')\n",
        "f.close()"
      ],
      "metadata": {
        "id": "cEQDaRIf9uuy"
      },
      "execution_count": null,
      "outputs": []
    },
    {
      "cell_type": "code",
      "source": [
        "f =  open('/content/Reference_summary.txt', 'wb')\n",
        "f.close()"
      ],
      "metadata": {
        "id": "2hifSi8M94Gb"
      },
      "execution_count": null,
      "outputs": []
    },
    {
      "cell_type": "markdown",
      "source": [
        "before running below cell, please add data in output.txt and reference.txt as described previously"
      ],
      "metadata": {
        "id": "Wz8GDckz-e4t"
      }
    },
    {
      "cell_type": "code",
      "source": [
        "with open('/content/Generated_summary.txt', 'rb') as f :\n",
        "  data = f.read()\n",
        "data = data.decode('utf-8')"
      ],
      "metadata": {
        "id": "DaFLN8pgoMvn"
      },
      "execution_count": null,
      "outputs": []
    },
    {
      "cell_type": "code",
      "source": [
        "with open('/content/Reference_summary.txt', 'rb') as f :\n",
        "  input_data = f.read()\n",
        "input_data.decode('utf-8')"
      ],
      "metadata": {
        "colab": {
          "base_uri": "https://localhost:8080/",
          "height": 87
        },
        "id": "6fldiOFSo2LQ",
        "outputId": "9c367645-9beb-4ebf-8147-490133946fb2"
      },
      "execution_count": null,
      "outputs": [
        {
          "output_type": "execute_result",
          "data": {
            "text/plain": [
              "'Scientists found an enzyme that blocks insulin, opening a new path for diabetes treatment.\\nThis enzyme attaches nitric oxide, a key molecule, to proteins including the insulin receptor.\\nToo much nitric oxide on the receptor disrupts insulin, potentially causing diabetes.\\nTargeting this enzyme could become a novel therapy for diabetes and other nitric oxide-linked diseases.'"
            ],
            "application/vnd.google.colaboratory.intrinsic+json": {
              "type": "string"
            }
          },
          "metadata": {},
          "execution_count": 19
        }
      ]
    },
    {
      "cell_type": "code",
      "source": [
        "predictions = data\n",
        "\n",
        "reference = input_data\n",
        "#results = rouge.compute(predictions=predictions, references=reference)\n"
      ],
      "metadata": {
        "id": "46DccjOloMPO"
      },
      "execution_count": null,
      "outputs": []
    },
    {
      "cell_type": "code",
      "source": [
        "from rouge_score import rouge_scorer\n",
        "\n",
        "scorer = rouge_scorer.RougeScorer(['rouge1'], use_stemmer=True)\n",
        "# ['rouge1', 'rougeL'], use_stemmer=True)\n",
        "scores = scorer.score(predictions,\n",
        "                      reference)"
      ],
      "metadata": {
        "id": "Zgk0u-Ymzaoi"
      },
      "execution_count": null,
      "outputs": []
    },
    {
      "cell_type": "code",
      "source": [
        "print(scores)"
      ],
      "metadata": {
        "colab": {
          "base_uri": "https://localhost:8080/"
        },
        "id": "LCSCr1C2Kpkf",
        "outputId": "474a2020-36b7-42bd-ea90-d3a09f5b13cd"
      },
      "execution_count": null,
      "outputs": [
        {
          "output_type": "stream",
          "name": "stdout",
          "text": [
            "{'rouge1': Score(precision=0.6071428571428571, recall=0.4146341463414634, fmeasure=0.49275362318840576)}\n"
          ]
        }
      ]
    },
    {
      "cell_type": "code",
      "source": [],
      "metadata": {
        "id": "dZCRcHELJG1N"
      },
      "execution_count": null,
      "outputs": []
    }
  ]
}