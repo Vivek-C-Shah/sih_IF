{
  "nbformat": 4,
  "nbformat_minor": 0,
  "metadata": {
    "colab": {
      "provenance": []
    },
    "kernelspec": {
      "name": "python3",
      "display_name": "Python 3"
    },
    "language_info": {
      "name": "python"
    }
  },
  "cells": [
    {
      "cell_type": "code",
      "source": [
        "!pip install nltk\n"
      ],
      "metadata": {
        "colab": {
          "base_uri": "https://localhost:8080/"
        },
        "id": "VWhL1Aexv0wR",
        "outputId": "aa53b1c6-601f-49b5-dfd1-5fd3b728d341"
      },
      "execution_count": null,
      "outputs": [
        {
          "output_type": "stream",
          "name": "stdout",
          "text": [
            "Requirement already satisfied: nltk in /usr/local/lib/python3.10/dist-packages (3.8.1)\n",
            "Requirement already satisfied: click in /usr/local/lib/python3.10/dist-packages (from nltk) (8.1.7)\n",
            "Requirement already satisfied: joblib in /usr/local/lib/python3.10/dist-packages (from nltk) (1.3.2)\n",
            "Requirement already satisfied: regex>=2021.8.3 in /usr/local/lib/python3.10/dist-packages (from nltk) (2023.6.3)\n",
            "Requirement already satisfied: tqdm in /usr/local/lib/python3.10/dist-packages (from nltk) (4.66.1)\n"
          ]
        }
      ]
    },
    {
      "cell_type": "code",
      "source": [
        "import nltk\n",
        "nltk.download('wordnet')\n"
      ],
      "metadata": {
        "colab": {
          "base_uri": "https://localhost:8080/"
        },
        "id": "li9ufK9Qv6d7",
        "outputId": "6df02aa2-bdb4-479f-b995-867c3905ce0c"
      },
      "execution_count": null,
      "outputs": [
        {
          "output_type": "stream",
          "name": "stderr",
          "text": [
            "[nltk_data] Downloading package wordnet to /root/nltk_data...\n",
            "[nltk_data]   Package wordnet is already up-to-date!\n"
          ]
        },
        {
          "output_type": "execute_result",
          "data": {
            "text/plain": [
              "True"
            ]
          },
          "metadata": {},
          "execution_count": 8
        }
      ]
    },
    {
      "cell_type": "code",
      "source": [
        "from nltk.corpus import wordnet\n",
        "\n",
        "def extract_technical_words(paragraph, min_word_length=8):\n",
        "    # Split the paragraph into words\n",
        "    words = re.findall(r'\\b\\w+\\b', paragraph)\n",
        "\n",
        "    # Define a function to check if a word is technically challenging (you can customize this)\n",
        "    def is_technical(word):\n",
        "        # For simplicity, let's say a word is technically challenging if its length is at least min_word_length\n",
        "        return len(word) >= min_word_length\n",
        "\n",
        "    # Filter the words to keep only technically challenging ones\n",
        "    technical_words = filter(is_technical, words)\n",
        "\n",
        "    return list(technical_words)\n",
        "\n",
        "def get_word_definition(word):\n",
        "    # Use WordNet to get the definition of a word\n",
        "    synsets = wordnet.synsets(word)\n",
        "\n",
        "    # Check if there's at least one synset for the word\n",
        "    if synsets:\n",
        "        return synsets[0].definition()\n",
        "\n",
        "    return None\n",
        "\n",
        "# Get input paragraph from the user\n",
        "user_paragraph = input(\"Enter a paragraph: \")\n",
        "\n",
        "# Set a minimum word length for technical words (you can adjust this)\n",
        "min_word_length = 8\n",
        "\n",
        "# Extract technically challenging words\n",
        "technical_words = extract_technical_words(user_paragraph, min_word_length)\n",
        "\n",
        "# Print the extracted words and their definitions\n",
        "if technical_words:\n",
        "    print(\"Technically challenging words in the paragraph:\")\n",
        "    for word in technical_words:\n",
        "        definition = get_word_definition(word)\n",
        "        print(f\"- {word}: {definition}\")\n",
        "else:\n",
        "    print(\"No technically challenging words found.\")\n"
      ],
      "metadata": {
        "colab": {
          "base_uri": "https://localhost:8080/"
        },
        "id": "OMzuFYLkv_Gt",
        "outputId": "d646b7c2-f3c9-4a3f-81c6-d12a4684ffe1"
      },
      "execution_count": null,
      "outputs": [
        {
          "output_type": "stream",
          "name": "stdout",
          "text": [
            "Enter a paragraph: In contemporary computational paradigms, elucidate the intricate interplay between distributed systems and parallel processing architectures with a nuanced focus on cache coherence protocols and their ramifications on system performance. Explore the efficacy of advanced machine learning algorithms, delving into gradient descent optimization strategies, convolutional neural network architectures, and regularization techniques such as L1 and L2 regularization. Investigate the nuanced intricacies of quantum computing, elucidating quantum gate operations, entanglement phenomena, and the potential impact of quantum algorithms on cryptographic protocols. Analyze the fault-tolerant characteristics of distributed databases through an in-depth examination of consensus algorithms, Byzantine fault tolerance, and replication strategies. Evaluate the application of blockchain technology in ensuring decentralized consensus and integrity within a distributed ledger framework. This comprehensive examination aims to assess your proficiency in navigating the intricate landscape of contemporary computing paradigms and emerging technologies.\n",
            "Technically challenging words in the paragraph:\n",
            "- contemporary: a person of nearly the same age as another\n",
            "- computational: of or involving computation or computers\n",
            "- paradigms: systematic arrangement of all the inflected forms of a word\n",
            "- elucidate: make clear and (more) comprehensible\n",
            "- intricate: having many complexly arranged elements; elaborate\n",
            "- interplay: reciprocal action and reaction\n",
            "- distributed: administer or bestow, as in small portions\n",
            "- parallel: something having the property of being analogous to something else\n",
            "- processing: preparing or putting through a prescribed procedure\n",
            "- architectures: an architectural product or work\n",
            "- coherence: the state of cohering or sticking together\n",
            "- protocols: (computer science) rules determining the format and transmission of data\n",
            "- ramifications: the act of branching out or dividing into branches\n",
            "- performance: a dramatic or musical entertainment\n",
            "- efficacy: capacity or power to produce a desired effect\n",
            "- advanced: move forward, also in the metaphorical sense\n",
            "- learning: the cognitive process of acquiring skill or knowledge\n",
            "- algorithms: a precise rule (or set of rules) specifying how to solve some problem\n",
            "- gradient: a graded change in the magnitude of some physical quantity or dimension\n",
            "- optimization: the act of rendering optimal\n",
            "- strategies: an elaborate and systematic plan of action\n",
            "- convolutional: None\n",
            "- architectures: an architectural product or work\n",
            "- regularization: the condition of having been made regular (or more regular)\n",
            "- techniques: a practical method or art applied to some particular task\n",
            "- regularization: the condition of having been made regular (or more regular)\n",
            "- Investigate: investigate scientifically\n",
            "- intricacies: marked by elaborately complex detail\n",
            "- computing: the branch of engineering science that studies (with the aid of computers) computable processes and structures\n",
            "- elucidating: make clear and (more) comprehensible\n",
            "- operations: financial transactions at a brokerage; having to do with the execution of trades and keeping customer records\n",
            "- entanglement: an intricate trap that entangles or ensnares its victim\n",
            "- phenomena: any state or process known through the senses rather than by intuition or reasoning\n",
            "- potential: the inherent capacity for coming into being\n",
            "- algorithms: a precise rule (or set of rules) specifying how to solve some problem\n",
            "- cryptographic: of or relating to cryptanalysis\n",
            "- protocols: (computer science) rules determining the format and transmission of data\n",
            "- tolerant: showing respect for the rights or opinions or practices of others\n",
            "- characteristics: a prominent attribute or aspect of something\n",
            "- distributed: administer or bestow, as in small portions\n",
            "- databases: an organized body of related information\n",
            "- examination: the act of examining something closely (as for mistakes)\n",
            "- consensus: agreement in the judgment or opinion reached by a group as a whole\n",
            "- algorithms: a precise rule (or set of rules) specifying how to solve some problem\n",
            "- Byzantine: a native or inhabitant of Byzantium or of the Byzantine Empire\n",
            "- tolerance: the power or capacity of an organism to tolerate unfavorable environmental conditions\n",
            "- replication: the act of making copies\n",
            "- strategies: an elaborate and systematic plan of action\n",
            "- Evaluate: evaluate or estimate the nature, quality, ability, extent, or significance of\n",
            "- application: the act of bringing something to bear; using it for a particular purpose\n",
            "- blockchain: None\n",
            "- technology: the practical application of science to commerce or industry\n",
            "- ensuring: make certain of\n",
            "- decentralized: make less central\n",
            "- consensus: agreement in the judgment or opinion reached by a group as a whole\n",
            "- integrity: an undivided or unbroken completeness or totality with nothing wanting\n",
            "- distributed: administer or bestow, as in small portions\n",
            "- framework: a hypothetical description of a complex entity or process\n",
            "- comprehensive: an intensive examination testing a student's proficiency in some special field of knowledge\n",
            "- examination: the act of examining something closely (as for mistakes)\n",
            "- proficiency: the quality of having great facility and competence\n",
            "- navigating: travel on water propelled by wind or by other means\n",
            "- intricate: having many complexly arranged elements; elaborate\n",
            "- landscape: an expanse of scenery that can be seen in a single view\n",
            "- contemporary: a person of nearly the same age as another\n",
            "- computing: the branch of engineering science that studies (with the aid of computers) computable processes and structures\n",
            "- paradigms: systematic arrangement of all the inflected forms of a word\n",
            "- emerging: come out into view, as from concealment\n",
            "- technologies: the practical application of science to commerce or industry\n"
          ]
        }
      ]
    }
  ]
}